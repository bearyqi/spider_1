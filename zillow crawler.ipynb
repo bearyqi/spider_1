{
 "cells": [
  {
   "cell_type": "code",
   "execution_count": 1,
   "metadata": {},
   "outputs": [],
   "source": [
    "import requests\n",
    "from bs4 import BeautifulSoup as soup"
   ]
  },
  {
   "cell_type": "code",
   "execution_count": 2,
   "metadata": {},
   "outputs": [],
   "source": [
    "header = {'User-Agent': 'Mozilla/5.0 (Windows NT 10.0; WOW64) AppleWebKit/537.36 (KHTML, like Gecko) Chrome/83.0.4103.61 Safari/537.36'}"
   ]
  },
  {
   "cell_type": "code",
   "execution_count": 3,
   "metadata": {},
   "outputs": [],
   "source": [
    "html = requests.get('https://www.zillow.com/san-jose-ca/?searchQueryState=%7B%22usersSearchTerm%22%3A%22San%20Jose%2C%20CA%22%2C%22mapBounds%22%3A%7B%22west%22%3A-122.045664%2C%22east%22%3A-121.704359%2C%22south%22%3A37.147971%2C%22north%22%3A37.469538%7D%2C%22regionSelection%22%3A%5B%7B%22regionId%22%3A33839%2C%22regionType%22%3A6%7D%5D%2C%22isMapVisible%22%3Afalse%2C%22filterState%22%3A%7B%22ah%22%3A%7B%22value%22%3Atrue%7D%7D%2C%22isListVisible%22%3Atrue%2C%22category%22%3A%22cat1%22%7D',headers=header)\n"
   ]
  },
  {
   "cell_type": "code",
   "execution_count": 4,
   "metadata": {},
   "outputs": [],
   "source": [
    "bsobj = soup(html.content,'lxml')"
   ]
  },
  {
   "cell_type": "code",
   "execution_count": 5,
   "metadata": {},
   "outputs": [],
   "source": [
    "price = bsobj.findAll('div',{'class':'list-card-price'})"
   ]
  },
  {
   "cell_type": "code",
   "execution_count": 6,
   "metadata": {},
   "outputs": [],
   "source": [
    "house_price = []\n",
    "num_bedroom = []\n",
    "num_bathroom = []\n",
    "house_size = []\n",
    "type_house =[]"
   ]
  },
  {
   "cell_type": "code",
   "execution_count": 7,
   "metadata": {},
   "outputs": [
    {
     "data": {
      "text/plain": [
       "['$525,000',\n",
       " '$925,000',\n",
       " '$1,480,000',\n",
       " '$1,488,000',\n",
       " '$1,680,000',\n",
       " '$750,000',\n",
       " '$1,248,000',\n",
       " '$1,300,000',\n",
       " '$455,000']"
      ]
     },
     "execution_count": 7,
     "metadata": {},
     "output_type": "execute_result"
    }
   ],
   "source": [
    "for i in price:\n",
    "    house_price.append(i.text)\n",
    "house_price"
   ]
  },
  {
   "cell_type": "code",
   "execution_count": 8,
   "metadata": {},
   "outputs": [
    {
     "name": "stdout",
     "output_type": "stream",
     "text": [
      "2 bds1 ba798 sqft- Condo for sale\n",
      "3 bds2 ba1,306 sqft- House for sale\n",
      "2 bds1 ba1,422 sqft- House for sale\n",
      "4 bds3 ba2,324 sqft- House for sale\n",
      "3 bds2 ba1,226 sqft- House for sale\n",
      "2 bds2 ba1,328 sqft- House for sale\n",
      "3 bds1 ba1,131 sqft- House for sale\n",
      "4 bds2 ba1,786 sqft- House for sale\n",
      "1 bd1 ba633 sqft- Condo for sale\n"
     ]
    }
   ],
   "source": [
    "size = bsobj.findAll('ul',{'class':'list-card-details'})\n",
    "for i in size:\n",
    "    print(i.text)"
   ]
  },
  {
   "cell_type": "code",
   "execution_count": 9,
   "metadata": {},
   "outputs": [
    {
     "data": {
      "text/plain": [
       "['2', '3', '2', '4', '3', '2', '3', '4', '1']"
      ]
     },
     "execution_count": 9,
     "metadata": {},
     "output_type": "execute_result"
    }
   ],
   "source": [
    "for j in size:\n",
    "    num_bedroom.append(j.text.split(' ')[0])\n",
    "num_bedroom"
   ]
  },
  {
   "cell_type": "code",
   "execution_count": 10,
   "metadata": {},
   "outputs": [
    {
     "data": {
      "text/plain": [
       "['1', '2', '1', '3', '2', '2', '1', '2', '1']"
      ]
     },
     "execution_count": 10,
     "metadata": {},
     "output_type": "execute_result"
    }
   ],
   "source": [
    "for k in size:\n",
    "    item = k.text.split(' ')[1]\n",
    "    for i in item:\n",
    "        if i.isdigit():\n",
    "            num_bathroom.append(i)\n",
    "num_bathroom"
   ]
  },
  {
   "cell_type": "code",
   "execution_count": 11,
   "metadata": {},
   "outputs": [
    {
     "data": {
      "text/plain": [
       "['798', '1,306', '1,422', '2,324', '1,226', '1,328', '1,131', '1,786', '633']"
      ]
     },
     "execution_count": 11,
     "metadata": {},
     "output_type": "execute_result"
    }
   ],
   "source": [
    "for l in size:\n",
    "    item = l.text.split(' ')[2].strip('ba')\n",
    "    house_size.append(item)\n",
    "house_size"
   ]
  },
  {
   "cell_type": "code",
   "execution_count": 12,
   "metadata": {},
   "outputs": [
    {
     "data": {
      "text/plain": [
       "[' Condo for sale',\n",
       " ' House for sale',\n",
       " ' House for sale',\n",
       " ' House for sale',\n",
       " ' House for sale',\n",
       " ' House for sale',\n",
       " ' House for sale',\n",
       " ' House for sale',\n",
       " ' Condo for sale']"
      ]
     },
     "execution_count": 12,
     "metadata": {},
     "output_type": "execute_result"
    }
   ],
   "source": [
    "for m in size:\n",
    "    item = m.text.split('-')[-1]\n",
    "    type_house.append(item)\n",
    "type_house"
   ]
  },
  {
   "cell_type": "code",
   "execution_count": 13,
   "metadata": {},
   "outputs": [],
   "source": [
    "import pandas as pd\n",
    "df = pd.DataFrame({'house price': house_price, 'number of bedroom': num_bedroom, 'number of bathroom': num_bathroom, 'house size': house_size, 'house type':type_house})"
   ]
  },
  {
   "cell_type": "code",
   "execution_count": 14,
   "metadata": {},
   "outputs": [
    {
     "data": {
      "text/html": [
       "<div>\n",
       "<style scoped>\n",
       "    .dataframe tbody tr th:only-of-type {\n",
       "        vertical-align: middle;\n",
       "    }\n",
       "\n",
       "    .dataframe tbody tr th {\n",
       "        vertical-align: top;\n",
       "    }\n",
       "\n",
       "    .dataframe thead th {\n",
       "        text-align: right;\n",
       "    }\n",
       "</style>\n",
       "<table border=\"1\" class=\"dataframe\">\n",
       "  <thead>\n",
       "    <tr style=\"text-align: right;\">\n",
       "      <th></th>\n",
       "      <th>house price</th>\n",
       "      <th>number of bedroom</th>\n",
       "      <th>number of bathroom</th>\n",
       "      <th>house size</th>\n",
       "      <th>house type</th>\n",
       "    </tr>\n",
       "  </thead>\n",
       "  <tbody>\n",
       "    <tr>\n",
       "      <th>0</th>\n",
       "      <td>$525,000</td>\n",
       "      <td>2</td>\n",
       "      <td>1</td>\n",
       "      <td>798</td>\n",
       "      <td>Condo for sale</td>\n",
       "    </tr>\n",
       "    <tr>\n",
       "      <th>1</th>\n",
       "      <td>$925,000</td>\n",
       "      <td>3</td>\n",
       "      <td>2</td>\n",
       "      <td>1,306</td>\n",
       "      <td>House for sale</td>\n",
       "    </tr>\n",
       "    <tr>\n",
       "      <th>2</th>\n",
       "      <td>$1,480,000</td>\n",
       "      <td>2</td>\n",
       "      <td>1</td>\n",
       "      <td>1,422</td>\n",
       "      <td>House for sale</td>\n",
       "    </tr>\n",
       "    <tr>\n",
       "      <th>3</th>\n",
       "      <td>$1,488,000</td>\n",
       "      <td>4</td>\n",
       "      <td>3</td>\n",
       "      <td>2,324</td>\n",
       "      <td>House for sale</td>\n",
       "    </tr>\n",
       "    <tr>\n",
       "      <th>4</th>\n",
       "      <td>$1,680,000</td>\n",
       "      <td>3</td>\n",
       "      <td>2</td>\n",
       "      <td>1,226</td>\n",
       "      <td>House for sale</td>\n",
       "    </tr>\n",
       "    <tr>\n",
       "      <th>5</th>\n",
       "      <td>$750,000</td>\n",
       "      <td>2</td>\n",
       "      <td>2</td>\n",
       "      <td>1,328</td>\n",
       "      <td>House for sale</td>\n",
       "    </tr>\n",
       "    <tr>\n",
       "      <th>6</th>\n",
       "      <td>$1,248,000</td>\n",
       "      <td>3</td>\n",
       "      <td>1</td>\n",
       "      <td>1,131</td>\n",
       "      <td>House for sale</td>\n",
       "    </tr>\n",
       "    <tr>\n",
       "      <th>7</th>\n",
       "      <td>$1,300,000</td>\n",
       "      <td>4</td>\n",
       "      <td>2</td>\n",
       "      <td>1,786</td>\n",
       "      <td>House for sale</td>\n",
       "    </tr>\n",
       "    <tr>\n",
       "      <th>8</th>\n",
       "      <td>$455,000</td>\n",
       "      <td>1</td>\n",
       "      <td>1</td>\n",
       "      <td>633</td>\n",
       "      <td>Condo for sale</td>\n",
       "    </tr>\n",
       "  </tbody>\n",
       "</table>\n",
       "</div>"
      ],
      "text/plain": [
       "  house price number of bedroom number of bathroom house size       house type\n",
       "0    $525,000                 2                  1        798   Condo for sale\n",
       "1    $925,000                 3                  2      1,306   House for sale\n",
       "2  $1,480,000                 2                  1      1,422   House for sale\n",
       "3  $1,488,000                 4                  3      2,324   House for sale\n",
       "4  $1,680,000                 3                  2      1,226   House for sale\n",
       "5    $750,000                 2                  2      1,328   House for sale\n",
       "6  $1,248,000                 3                  1      1,131   House for sale\n",
       "7  $1,300,000                 4                  2      1,786   House for sale\n",
       "8    $455,000                 1                  1        633   Condo for sale"
      ]
     },
     "execution_count": 14,
     "metadata": {},
     "output_type": "execute_result"
    }
   ],
   "source": [
    "df"
   ]
  },
  {
   "cell_type": "code",
   "execution_count": null,
   "metadata": {},
   "outputs": [],
   "source": []
  }
 ],
 "metadata": {
  "kernelspec": {
   "display_name": "Python 3",
   "language": "python",
   "name": "python3"
  },
  "language_info": {
   "codemirror_mode": {
    "name": "ipython",
    "version": 3
   },
   "file_extension": ".py",
   "mimetype": "text/x-python",
   "name": "python",
   "nbconvert_exporter": "python",
   "pygments_lexer": "ipython3",
   "version": "3.8.5"
  }
 },
 "nbformat": 4,
 "nbformat_minor": 4
}
